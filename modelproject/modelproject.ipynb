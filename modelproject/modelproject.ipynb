{
 "cells": [
  {
   "cell_type": "markdown",
   "metadata": {},
   "source": [
    "# Model project"
   ]
  },
  {
   "attachments": {},
   "cell_type": "markdown",
   "metadata": {},
   "source": [
    "\n",
    "For the model project, we've decided to formulate the OLG model in python and solve it through the tools and scope of this course. To do so, we adjust the parameters of the model and in this case increase population growth and see which effects it has"
   ]
  },
  {
   "cell_type": "markdown",
   "metadata": {},
   "source": [
    "The model will include the following:\n",
    "    1. Packages\n",
    "    2. Model description \n",
    "    3. Analytical solution\n",
    "    4. Numerical solution\n",
    "    5. Concluding remarks "
   ]
  },
  {
   "cell_type": "code",
   "execution_count": 1,
   "metadata": {},
   "outputs": [],
   "source": [
    "import numpy as np\n",
    "from scipy import optimize\n",
    "import sympy as sm\n",
    "from types import SimpleNamespace\n",
    "\n",
    "# autoreload modules when code is run\n",
    "%load_ext autoreload\n",
    "%autoreload 2\n",
    "\n",
    "import ipywidgets as widgets\n",
    "\n",
    "import matplotlib.pyplot as plt\n",
    "plt.rcParams.update({\"axes.grid\":True,\"grid.color\":\"black\",\"grid.alpha\":\"0.25\",\"grid.linestyle\":\"--\"})\n",
    "plt.rcParams.update({'font.size': 14})"
   ]
  },
  {
   "cell_type": "markdown",
   "metadata": {},
   "source": [
    "# Model description"
   ]
  },
  {
   "cell_type": "markdown",
   "metadata": {},
   "source": [
    "We consider a two period OLG model where we include an Euler equation.\n",
    "\n",
    "**Firms maximization problem:**\n",
    "$$\n",
    "\\max_{K_t, L_t}  AK_t^{\\alpha}L_t^{1-\\alpha} - r_t K_t - w_t L_t\n",
    "$$\n",
    "$L_t$ and $K_t$ are the labor and capital employed by a firm. $A$ is the total factor productivity and must be greater than 0.\n",
    "$\\alpha \\in (0,1)$ and is the percentage of capital the consumer uses in their production process.\n",
    "\n",
    "**Production function:**\n",
    "We use a Cobb Douglas production function:\n",
    "$$\n",
    "Y_t = AK_t^{\\alpha}L_t^{1-\\alpha} \n",
    "$$\n",
    "$L_t$ shows how many individuals are born in period t. The population grows at a constant rate, $n$:\n",
    "$$\n",
    "L_t = L_{t-1}(1+n)\n",
    "$$\n",
    "\n",
    "The capital accumulation in the next period is equal to the savings from this period:\n",
    "$$\n",
    "K_{t+1} = S_t = s_tL_t\n",
    "$$\n",
    "It is only the young who save.\n",
    "\n",
    "**Capital per capita:**\n",
    "$$\n",
    "k_t = \\frac{K_t}{L_t}\n",
    "$$\n",
    "\n",
    "In period $t+1$ aggregate capital stock is equal to what the young people save, what the old people dissave and un-depreciated capital ($\\delta = 0$):\n",
    "$$\n",
    "k_{t+1}(1+n) = s_t\n",
    "$$\n",
    "\n",
    "**Saving problem for an individual:**\n",
    "$$\n",
    "U_t = \\ln(c_{1t})+\\beta \\ln(c_{2t+1})\n",
    "$$\n",
    "$c_{1t}$ is consumption when young and $c_{2t+1}$ is consumption when old.\n",
    "\n",
    "**Parameter expression:**\n",
    "$$\n",
    "\\beta = \\frac{1}{1+\\rho}\n",
    "$$\n",
    "$\\rho$ is the discount rate and must be larger than $-1$, such that $\\beta>0$.\n",
    "\n",
    "**Budget constraints:**\n",
    "$$\n",
    "c_{1t} + s_t = w_t \n",
    "$$\n",
    "\n",
    "$$\n",
    "c_{2t+1} = (1 + r_{t+1}) s_t\n",
    "$$\n",
    "$w_t$ is defined as the wage rate and $r_{t+1}$ is the interest rate between $t$ and $t+1$.\n",
    "\n",
    "The consumption for young is equal to their wage minus savings. Since old agents do not work, they must provide consumption through savings which are remunerated at the gross rate, $(1 + r_{t+1})$.  \n",
    "\n",
    "**Lifetime budget constraint:**\n",
    "By combining consumption when young and consumption when old, we yield the lifetime budget constraint:\n",
    "$$\n",
    "c_{1t} + \\frac{c_{2t+1}}{1+r_{t+1}} = w_t \n",
    "$$\n",
    "The old cannot make any choices and must therefore consume their wealth.\n",
    "\n",
    "We assume $\\delta = 0$ meaning zero depreciation. By solving the firms' maximization problem we get factor prices for $r_t$ and $w_t$:\n",
    "$$\n",
    "r_t = A \\alpha k_t^{\\alpha-1}\n",
    "$$\n",
    "\n",
    "$$\n",
    "w_t = A(1-\\alpha)k_t^\\alpha\n",
    "$$\n",
    "\n",
    "In order to derive the Euler equation, i.e., solving the household problem, we use the Lagrangian to find FOC's. Then we can substitute out the Lagrangian multiplier to get the Euler equation.\n",
    "\n",
    "**The Euler equation:**\n",
    "$$\n",
    "c_{2t+1} = \\frac{1+r_{t+1}}{1+\\rho}c_{1t}\n",
    "$$\n",
    "\n",
    "By combining the budget constraints with the Euler equation, we are able to find the optimal savings. \n",
    "$$\n",
    "s_t = \\frac{1}{2+\\rho}w_t\n",
    "$$\n",
    "\n",
    "Remember that $k_{t+1} (1+n) = s_t$. By inserting the factor price for wage, we get the capital accumulation per capita. \n",
    "\n",
    "**Capital accumulation per capita:**\n",
    "$$\n",
    "k_{t+1}(1+n) = \\frac{1}{2+\\rho}w_t\n",
    "$$\n",
    "\n",
    "$$\n",
    "k_{t+1}(1+n) = \\frac{1}{2+\\rho}A(1-\\alpha)k_t^\\alpha\n",
    "$$\n",
    "\n",
    "$$\n",
    "k_{t+1} = \\frac{A(1-\\alpha)k_t^\\alpha}{(1+n)(2+\\rho)}\n",
    "$$\n",
    "\n",
    "In steady state $k_{t+1} = k_t = k^*$ yielding:\n",
    "\n",
    "**Steady state:**\n",
    "$$\n",
    "k^* = \\left[\\frac{A(1-\\alpha)}{(1+n)(2+\\rho)}\\right]^\\frac{1}{1-\\alpha}\n"
   ]
  },
  {
   "cell_type": "markdown",
   "metadata": {},
   "source": [
    "## Analytical solution"
   ]
  },
  {
   "cell_type": "markdown",
   "metadata": {},
   "source": [
    "If your model allows for an analytical solution, you should provide here.\n",
    "\n",
    "You may use Sympy for this. Then you can characterize the solution as a function of a parameter of the model.\n",
    "\n",
    "To characterize the solution, first derive a steady state equation as a function of a parameter using Sympy.solve and then turn it into a python function by Sympy.lambdify. See the lecture notes for details. "
   ]
  },
  {
   "cell_type": "markdown",
   "metadata": {},
   "source": [
    "## Numerical solution"
   ]
  },
  {
   "cell_type": "markdown",
   "metadata": {},
   "source": [
    "We start by assigning the parameters values:"
   ]
  },
  {
   "cell_type": "code",
   "execution_count": 2,
   "metadata": {},
   "outputs": [],
   "source": [
    "alpha = sm.symbols('alpha')\n",
    "rho =  sm.symbols('rho')\n",
    "k = sm.symbols('k')\n",
    "n = sm.symbols('n')\n",
    "A = sm.symbols('A')"
   ]
  },
  {
   "cell_type": "markdown",
   "metadata": {},
   "source": [
    "Next, we solve for steady state "
   ]
  },
  {
   "cell_type": "code",
   "execution_count": 3,
   "metadata": {},
   "outputs": [
    {
     "data": {
      "text/latex": [
       "$\\displaystyle k = \\frac{A k^{\\alpha} \\left(1 - \\alpha\\right)}{\\left(n + 1\\right) \\left(\\rho + 2\\right)}$"
      ],
      "text/plain": [
       "Eq(k, A*k**alpha*(1 - alpha)/((n + 1)*(rho + 2)))"
      ]
     },
     "execution_count": 3,
     "metadata": {},
     "output_type": "execute_result"
    }
   ],
   "source": [
    "ss = sm.Eq(k, (A*(1-alpha)*k**alpha)/((1+n)*(2+rho)))\n",
    "ss"
   ]
  },
  {
   "cell_type": "markdown",
   "metadata": {},
   "source": [
    "And convert the function to python"
   ]
  },
  {
   "cell_type": "code",
   "execution_count": 4,
   "metadata": {},
   "outputs": [
    {
     "data": {
      "text/latex": [
       "$\\displaystyle \\left(\\frac{A \\left(1 - \\alpha\\right)}{n \\rho + 2 n + \\rho + 2}\\right)^{- \\frac{1}{\\alpha - 1}}$"
      ],
      "text/plain": [
       "(A*(1 - alpha)/(n*rho + 2*n + rho + 2))**(-1/(alpha - 1))"
      ]
     },
     "execution_count": 4,
     "metadata": {},
     "output_type": "execute_result"
    }
   ],
   "source": [
    "ss_solve = sm.solve(ss, k)[0]\n",
    "ss_solve"
   ]
  },
  {
   "cell_type": "markdown",
   "metadata": {},
   "source": [
    "Next, we solve for k in ss"
   ]
  },
  {
   "cell_type": "code",
   "execution_count": 5,
   "metadata": {},
   "outputs": [
    {
     "data": {
      "text/plain": [
       "0.17485671329443958"
      ]
     },
     "execution_count": 5,
     "metadata": {},
     "output_type": "execute_result"
    }
   ],
   "source": [
    "k_solve = sm.lambdify((alpha,rho,n,A),ss_solve)\n",
    "k_solve(1/3,0.05,0.04,1)"
   ]
  },
  {
   "cell_type": "markdown",
   "metadata": {},
   "source": [
    "# Numerical solution"
   ]
  },
  {
   "cell_type": "markdown",
   "metadata": {},
   "source": [
    "Now we wish to solve the problem numerically and start by defining the values "
   ]
  },
  {
   "cell_type": "code",
   "execution_count": 6,
   "metadata": {},
   "outputs": [],
   "source": [
    "rho = 0.05\n",
    "A = 1.00\n",
    "alpha = 1/3\n",
    "n = 0.04\n",
    "tau = 0.00\n",
    "\n",
    "\n",
    "ks_1 = ((A*(1-alpha))/((1+n)*(2+rho)))**(-1/(alpha-1))\n",
    "\n"
   ]
  },
  {
   "cell_type": "markdown",
   "metadata": {},
   "source": [
    "Next, we define the objective while simoultaneously solving for the roots of the problem "
   ]
  },
  {
   "cell_type": "code",
   "execution_count": 7,
   "metadata": {},
   "outputs": [
    {
     "data": {
      "text/plain": [
       "0.17485671329430136"
      ]
     },
     "execution_count": 7,
     "metadata": {},
     "output_type": "execute_result"
    }
   ],
   "source": [
    "obj = lambda k: k - ((A*(1-alpha)*k**alpha)/((1+n)*(2+rho)))\n",
    "\n",
    "\n",
    "result = optimize.root_scalar(obj,bracket=[1e-10,10],method='bisect') \n",
    "result.root"
   ]
  },
  {
   "cell_type": "markdown",
   "metadata": {},
   "source": [
    "Now we set up the simulation\n"
   ]
  },
  {
   "cell_type": "code",
   "execution_count": null,
   "metadata": {},
   "outputs": [],
   "source": [
    "from modelproject import modelclass\n",
    "\n",
    "model = modelclass()\n",
    "par = model.par\n",
    "sim = model.sim\n",
    "\n",
    "model.sim_results()"
   ]
  },
  {
   "cell_type": "markdown",
   "metadata": {},
   "source": [
    "Finally, we call on out sim and make use of the new variables and plot the results"
   ]
  },
  {
   "cell_type": "code",
   "execution_count": null,
   "metadata": {},
   "outputs": [],
   "source": [
    " \n",
    "model.simulate()\n",
    "\n",
    "\n",
    "fig = plt.figure(figsize=(6,6/1.5))\n",
    "ax = fig.add_subplot(1,1,1)\n",
    "ax.plot(model.sim.k,label=r'$k_{t}$, (n = 0.05)') # Plotting k\n",
    "ax.axhline(ks_1,ls='--',color='black',label='analytical steady state') # Plotting the analytical steady state\n",
    "ax.legend(frameon=True,fontsize=12)\n",
    "ax.set_title('Convergence of capital accumulation')\n",
    "ax.set_xlabel('Numbers of periods')\n",
    "ax.set_ylabel('Steady state value')\n",
    "fig.tight_layout()\n",
    "sim_k_old = model.sim.k.copy() # Creating a copy of the steady state simulation for later"
   ]
  },
  {
   "cell_type": "markdown",
   "metadata": {},
   "source": [
    "# Conclusion"
   ]
  },
  {
   "cell_type": "markdown",
   "metadata": {},
   "source": [
    "\n",
    "In summary, the initial figure indicates that the analytical steady state capital accumulation is around 0.175 when there are no external shocks. However, if there is an unexpected increase in government spending, funded by lump-sum taxes imposed on the young workers each period, the capital accumulation correspondingly decreases."
   ]
  }
 ],
 "metadata": {
  "kernelspec": {
   "display_name": "base",
   "language": "python",
   "name": "python3"
  },
  "language_info": {
   "codemirror_mode": {
    "name": "ipython",
    "version": 3
   },
   "file_extension": ".py",
   "mimetype": "text/x-python",
   "name": "python",
   "nbconvert_exporter": "python",
   "pygments_lexer": "ipython3",
   "version": "3.11.8"
  },
  "toc-autonumbering": true,
  "vscode": {
   "interpreter": {
    "hash": "47ef90cdf3004d3f859f1fb202523c65c07ba7c22eefd261b181f4744e2d0403"
   }
  }
 },
 "nbformat": 4,
 "nbformat_minor": 4
}
